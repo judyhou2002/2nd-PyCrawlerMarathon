{
 "cells": [
  {
   "cell_type": "markdown",
   "metadata": {},
   "source": [
    "# YAHOO電影爬蟲練習\n",
    "## 練習爬取電影放映資訊。必須逐步獲取電影的代號、放映地區、放映日期後，再送出查詢給伺服器。"
   ]
  },
  {
   "cell_type": "code",
   "execution_count": 1,
   "metadata": {},
   "outputs": [],
   "source": [
    "import requests\n",
    "import re\n",
    "from bs4 import BeautifulSoup"
   ]
  },
  {
   "cell_type": "markdown",
   "metadata": {},
   "source": [
    "### 先搜尋全部的電影代號(ID)資訊"
   ]
  },
  {
   "cell_type": "code",
   "execution_count": 2,
   "metadata": {
    "scrolled": true
   },
   "outputs": [
    {
     "name": "stdout",
     "output_type": "stream",
     "text": [
      "片名：東京喰種S, ID：10562\n",
      "片名：我的學生都是配樂大師, ID：10557\n",
      "片名：我們的家不是我們的家, ID：10556\n",
      "片名：奧斯卡配樂大師：亞歷山大戴斯培, ID：10552\n",
      "片名：聲入奇境：經典配樂大師, ID：10550\n",
      "片名：絕命直播, ID：10548\n",
      "片名：託陰2：布拉姆回來了, ID：10540\n",
      "片名：迷雁返家路, ID：10533\n",
      "片名：無聲救援, ID：10521\n",
      "片名：鏡中驚魂, ID：10514\n",
      "片名：最初的晚餐, ID：10510\n",
      "片名：抓住救命稻草的野獸們, ID：10507\n",
      "片名：第六感生死戀, ID：10504\n",
      "片名：Re從零開始的異世界生活 外傳集, ID：10480\n",
      "片名：記憶屋, ID：10470\n",
      "片名：我的失蹤爸爸, ID：10546\n",
      "片名：不愛鋼琴師, ID：10542\n",
      "片名：神之一手：鬼手篇, ID：10520\n",
      "片名：囚愛之家, ID：10515\n",
      "片名：A+瞎妹, ID：10508\n",
      "片名：搖滾師匠：細野晴臣, ID：10502\n",
      "片名：最後晚安曲, ID：10499\n",
      "片名：我出去醫下, ID：10494\n",
      "片名：依然相信, ID：10487\n",
      "片名：電影版 地獄少女, ID：10525\n",
      "片名：刺激1995, ID：10518\n",
      "片名：通靈少年2020, ID：10517\n",
      "片名：安雅的回家路, ID：10516\n",
      "片名：牆內的房客, ID：10512\n",
      "片名：南山的部長們, ID：10509\n",
      "片名：另類神父, ID：10500\n",
      "片名：破．局, ID：10496\n",
      "片名：劇場版 不起眼女主角培育法 Fine, ID：10486\n",
      "片名：練愛iNG, ID：10442\n",
      "片名：鋼鐵勳章, ID：10432\n",
      "片名：我，最親愛的, ID：10503\n",
      "片名：血衛, ID：10469\n",
      "片名：導演先生的完美假期, ID：10545\n",
      "片名：親愛的莎瑪, ID：10491\n",
      "片名：大畫特務, ID：10478\n",
      "片名：明明會說話, ID：10440\n",
      "片名：艾瑪, ID：10396\n",
      "片名：千日千夜, ID：10490\n",
      "片名：鳴鳥不飛：烏雲密布, ID：10458\n",
      "片名：哥布林殺手 劇場版, ID：10438\n",
      "片名：女鬼橋, ID：10437\n",
      "片名：怨咒, ID：10421\n",
      "片名：極地守護犬, ID：10383\n",
      "片名：叔．叔, ID：10371\n",
      "片名：隱形人, ID：10359\n",
      "片名：絕命大平台, ID：10447\n",
      "片名：李察朱威爾事件, ID：10368\n",
      "片名：音速小子, ID：9246\n",
      "片名：失控少年兵團, ID：10456\n",
      "片名：超＂人＂氣動物園, ID：10445\n",
      "片名：全境失控, ID：10426\n",
      "片名：愛情人形, ID：10394\n",
      "片名：我的寶貝男孩, ID：10489\n",
      "片名：猛禽小隊：小丑女大解放, ID：10268\n",
      "片名：熱帶雨, ID：10448\n",
      "片名：王牌辯士, ID：10346\n",
      "片名：1917, ID：10189\n",
      "片名：肥龍過江, ID：10449\n",
      "片名：深海終劫站, ID：10230\n",
      "片名：變身特務, ID：9008\n",
      "片名：巧虎電影：英雄遊樂園, ID：10429\n",
      "片名：不完美的正義, ID：10243\n",
      "片名：星星知我心, ID：10409\n",
      "片名：逃出天堂島, ID：10384\n",
      "片名：別告訴她, ID：10382\n",
      "片名：真愛裁會贏, ID：10362\n",
      "片名：CATS貓, ID：10166\n",
      "片名：燃燒女子的畫像, ID：10069\n",
      "片名：葉問4：完結篇, ID：9890\n",
      "片名：STAR WARS : 天行者的崛起, ID：10225\n",
      "片名：8級警戒, ID：10323\n",
      "片名：去年聖誕節, ID：10256\n",
      "片名：野蠻遊戲：全面晉級, ID：10134\n",
      "片名：賽道狂人, ID：10097\n",
      "片名：冰雪奇緣2, ID：9597\n",
      "片名：萬萬沒想到, ID：10281\n",
      "片名：絕鯊47：猛鯊出籠, ID：10214\n",
      "片名：失控危城, ID：9710\n",
      "片名：假面飯店, ID：9641\n",
      "片名：潛艦獵殺令, ID：8828\n",
      "片名：在咖啡冷掉之前, ID：8730\n",
      "片名：不可能的任務：全面瓦解, ID：7767\n",
      "片名：侏羅紀世界：殞落國度, ID：7550\n",
      "片名：一首搖滾上月球, ID：4887\n",
      "片名：錢不夠用2, ID：3026\n"
     ]
    }
   ],
   "source": [
    "# 查看目前上映那些電影，並擷取出其ID資訊\n",
    "url = 'https://movies.yahoo.com.tw/'\n",
    "res = requests.get(url)\n",
    "\n",
    "soup = BeautifulSoup(res.text, 'lxml')\n",
    "html = soup.find('select', attrs = {'name' : 'movie_id'})\n",
    "movie_item = html.find_all('option', attrs={'data-name' : re.compile('.*') })\n",
    "for p in movie_item:\n",
    "    print('片名：%s, ID：%s' % (p['data-name'], p['value']))"
   ]
  },
  {
   "cell_type": "markdown",
   "metadata": {},
   "source": [
    "### 指定你有興趣的電影其ID，然後查詢其放映地區資訊。"
   ]
  },
  {
   "cell_type": "code",
   "execution_count": 3,
   "metadata": {},
   "outputs": [],
   "source": [
    "# 參考前一個步驟中擷取到的ID資訊，並指定ID\n",
    "movie_id = 10518"
   ]
  },
  {
   "cell_type": "code",
   "execution_count": 4,
   "metadata": {},
   "outputs": [
    {
     "name": "stdout",
     "output_type": "stream",
     "text": [
      "[{'area_id': 28, 'title': '台北市', 'priority': 150, 'ts_update': 1547519309}, {'area_id': 8, 'title': '新北市', 'priority': 145, 'ts_update': 1547194527}, {'area_id': 16, 'title': '桃園', 'priority': 140, 'ts_update': 1547452573}, {'area_id': 20, 'title': '新竹', 'priority': 135, 'ts_update': 1547452603}, {'area_id': 2, 'title': '台中', 'priority': 125, 'ts_update': 1547507368}, {'area_id': 10, 'title': '台南', 'priority': 100, 'ts_update': 1547507403}, {'area_id': 17, 'title': '高雄', 'priority': 95, 'ts_update': 1547507403}]\n",
      "放映地區: 台北市, 代號:28\n",
      "放映地區: 新北市, 代號:8\n",
      "放映地區: 桃園, 代號:16\n",
      "放映地區: 新竹, 代號:20\n",
      "放映地區: 台中, 代號:2\n",
      "放映地區: 台南, 代號:10\n",
      "放映地區: 高雄, 代號:17\n"
     ]
    }
   ],
   "source": [
    "url = 'https://movies.yahoo.com.tw/api/v1/areas_by_movie_theater'\n",
    "# 查詢參數\n",
    "payload = {'movie_id':str(movie_id)}\n",
    "\n",
    "# 模擬一個header\n",
    "headers = {\n",
    "    'authority': 'movies.yahoo.com.tw',\n",
    "    'method': 'GET',\n",
    "    'path': '/api/v1/areas_by_movie_theater?movie_id=' + str(movie_id),\n",
    "    'scheme': 'https',\n",
    "    'accept': 'application/json, text/javascript, */*; q=0.01',\n",
    "    'accept-encoding': 'gzip, deflate, br',\n",
    "    'accept-language': 'zh-TW,zh;q=0.9,en-US;q=0.8,en;q=0.7,zh-CN;q=0.6',\n",
    "    'cookie': 'rxx=9s3x2fws06.1g16irnc&v=1; _ga=GA1.3.2056742944.1551651301; GUC=AQEBAQFczFpdm0IfmwSB&s=AQAAACoo4N5D&g=XMsVBw; BX=4hkdk1decm57t&b=3&s=mr; _ga=GA1.4.2056742944.1551651301; nexagesuid=82843256dd234e8e91aa73f2062f8218; browsed_movie=eyJpdiI6IlJXWWtiSWJaZlNGK2MxQnhscnVUYWc9PSIsInZhbHVlIjoiMXRhMmVHRXRIeUNjc1RBWDJzdGYwbnlIQURmWGsrcjJSMzhkbkcraDNJVUNIZEZsbzU3amlFcVZ1NzlmazJrTGpoMjVrbHk1YmpoRENXaHZTOUw1TmI2ZTZVWHdOejZQZm16RmVuMWlHTTJLaTZLVFZZVkFOMDlTd1wvSGltcytJIiwibWFjIjoiZWQ2ZjA4MmVjZmZlYjlmNjJmYmY2NGMyMDI0Njc0NWViYjVkOWE2NDg0N2RhODMxZjBjZDhiMmJhZTc2MDZhYiJ9; avi=eyJpdiI6Im1NeWFJRlVRWDR1endEcGRGUGJUbVE9PSIsInZhbHVlIjoickRpU3JuUytmcGl6cjF5OW0rNU9iZz09IiwibWFjIjoiY2VmY2NkNzZmM2NhNjY5YzlkOTcyNjE5OGEyMzU0NWYxOTdmMDRkMDY3OWNmMmZjOTMxYjc5MjI5N2Q5NGE5MiJ9; cmp=t=1559391030&j=0; _gid=GA1.4.779543841.1559391031; XSRF-TOKEN=eyJpdiI6IkhpS2hGcDRQaHlmWUJmaHdSS2Q2bHc9PSIsInZhbHVlIjoiOUVoNFk4OHI1UUZmUWRtYXhza0MyWjJSTlhlZ3RnT0VGeVJPN2JuczVRMGRFdWt2OUlsamVKeHRobFwvcHBGM0dhU3VyMXNGTHlsb2dVM2l0U1hpUGxBPT0iLCJtYWMiOiJkZWU4YzJhNjAxMTY3MzE4Y2ExNWIxYmE1ZjE1YWZlZTlhOTcyYjc4M2RlZGY4ZWNjZDYyMTA2NGYwZGViMzc2In0%3D; m_s=eyJpdiI6InpsZHZ2Tk1BZ0dxaHhETml1RjBnUXc9PSIsInZhbHVlIjoiSkNGeHUranRoXC85bDFiaDhySTJqNkJRcWdjWUxjeVRJSHVYZ1wvd2d4bWJZUTUrSHVDM0lUcW5KNHdETFZ4T1lieU81OUhzc1VoUXhZcWk0UDZSQXVFdz09IiwibWFjIjoiYmJkMDJkMDhlODIzMzcyMWY4M2NmYWNjNGVlOWRjMDIwZmVmNzAyMjE3Yzg3ZGY3ODBkZWEzZTI4MTI5ZWNmOSJ9; _gat=1; nexagesd=10',\n",
    "    'dnt': '1',\n",
    "    'mv-authorization': '21835b082e15b91a69b3851eec7b31b82ce82afb',\n",
    "    'referer': 'https://movies.yahoo.com.tw/',\n",
    "    'user-agent': 'Mozilla/5.0 (Windows NT 10.0; Win64; x64) AppleWebKit/537.36 (KHTML, like Gecko) Chrome/74.0.3729.169 Safari/537.36',\n",
    "    'x-requested-with': 'XMLHttpRequest',\n",
    "    \n",
    "}\n",
    "\n",
    "resp = requests.get(url, params = payload, headers = headers)\n",
    "print(resp.json())\n",
    "\n",
    "for p in resp.json():\n",
    "    print('放映地區: %s, 代號:%s' % (p['title'],p['area_id']) )\n",
    "    #print('放映地區: {0}, 代號(area_id): {1}'.format(p['title'], p['area_id']))\n"
   ]
  },
  {
   "cell_type": "markdown",
   "metadata": {},
   "source": [
    "### 指定你想要觀看的放映地區，查詢有上映電影的場次日期"
   ]
  },
  {
   "cell_type": "code",
   "execution_count": 5,
   "metadata": {},
   "outputs": [],
   "source": [
    "# 指定放映地區\n",
    "area_id = 28"
   ]
  },
  {
   "cell_type": "code",
   "execution_count": 6,
   "metadata": {},
   "outputs": [
    {
     "name": "stdout",
     "output_type": "stream",
     "text": [
      "三月 28\n",
      "三月 29\n",
      "三月 30\n",
      "三月 31\n",
      "四月 1\n"
     ]
    }
   ],
   "source": [
    "url = 'https://movies.yahoo.com.tw/movietime_result.html'\n",
    "payload = {'movie_id':str(movie_id), 'area_id':str(area_id)}\n",
    "resp = requests.get(url, params = payload)\n",
    "resp.encoding = 'utf-8'\n",
    "\n",
    "soup = BeautifulSoup(resp.text, 'lxml')\n",
    "movie_date = soup.find_all('label', attrs = {'for':re.compile('date_[\\d]')})\n",
    "#print(movie_date)\n",
    "\n",
    "\n",
    "# 列印播放日期\n",
    "for date in movie_date:\n",
    "    print('%s %s' % (date.p.text, date.h3.text))"
   ]
  },
  {
   "cell_type": "markdown",
   "metadata": {},
   "source": [
    "### 最後指定觀看的日期，查詢並列印出放映的電影院、放映類型(數位、3D、IMAX 3D...)、放映時間等資訊。"
   ]
  },
  {
   "cell_type": "code",
   "execution_count": 7,
   "metadata": {},
   "outputs": [],
   "source": [
    "# 選定要觀看的日期\n",
    "date = \"2020-03-28\""
   ]
  },
  {
   "cell_type": "code",
   "execution_count": 8,
   "metadata": {},
   "outputs": [
    {
     "name": "stdout",
     "output_type": "stream",
     "text": [
      "[<ul class=\"area_time _c jq_area_time\" data-theater_name=\"國賓影城(台北長春廣場)\" data-theater_schedules=\"https://movies.yahoo.com.tw/theater_result.html/id=29\" data-theater_url=\"http://www.ambassador.com.tw/\" id=\"theater_id_29\">\n",
      "<li class=\"adds\">\n",
      "<a href=\"https://movies.yahoo.com.tw/theater_result.html/id=29\">國賓影城(台北長春廣場)</a>\n",
      "<span>02-25155755</span>\n",
      "</li>\n",
      "<li class=\"taps\">\n",
      "<span class=\"tapR\">數位</span> </li>\n",
      "<li class=\"time _c\">\n",
      "<div class=\"input_picker jq_input_picker\">\n",
      "<input class=\"gabtn\" data-ga=\"['電影頁_時刻表', '電影頁_時刻表_場次', '刺激1995']\" data-movie_date=\"03.28\" data-movie_time=\"11:20\" data-movie_title=\"刺激1995\" data-movie_type=\"數位\" data-news=\"news\" id=\"73405104\" name=\"schedule_list\" type=\"radio\" value=\"2020-03-28 11:20:00\"/>\n",
      "<label class=\"\" for=\"73405104\">11:20</label>\n",
      "<input class=\"gabtn\" data-ga=\"['電影頁_時刻表', '電影頁_時刻表_場次', '刺激1995']\" data-movie_date=\"03.28\" data-movie_time=\"14:00\" data-movie_title=\"刺激1995\" data-movie_type=\"數位\" data-news=\"news\" id=\"73405105\" name=\"schedule_list\" type=\"radio\" value=\"2020-03-28 14:00:00\"/>\n",
      "<label class=\"\" for=\"73405105\">14:00</label>\n",
      "<input class=\"gabtn\" data-ga=\"['電影頁_時刻表', '電影頁_時刻表_場次', '刺激1995']\" data-movie_date=\"03.28\" data-movie_time=\"16:35\" data-movie_title=\"刺激1995\" data-movie_type=\"數位\" data-news=\"news\" id=\"73405106\" name=\"schedule_list\" type=\"radio\" value=\"2020-03-28 16:35:00\"/>\n",
      "<label class=\"\" for=\"73405106\">16:35</label>\n",
      "<input class=\"gabtn\" data-ga=\"['電影頁_時刻表', '電影頁_時刻表_場次', '刺激1995']\" data-movie_date=\"03.28\" data-movie_time=\"19:10\" data-movie_title=\"刺激1995\" data-movie_type=\"數位\" data-news=\"news\" id=\"73405107\" name=\"schedule_list\" type=\"radio\" value=\"2020-03-28 19:10:00\"/>\n",
      "<label class=\"\" for=\"73405107\">19:10</label>\n",
      "<input class=\"gabtn\" data-ga=\"['電影頁_時刻表', '電影頁_時刻表_場次', '刺激1995']\" data-movie_date=\"03.28\" data-movie_time=\"21:45\" data-movie_title=\"刺激1995\" data-movie_type=\"數位\" data-news=\"news\" id=\"73405108\" name=\"schedule_list\" type=\"radio\" value=\"2020-03-28 21:45:00\"/>\n",
      "<label class=\"select\" for=\"73405108\">21:45</label>\n",
      "</div>\n",
      "</li>\n",
      "</ul>, <ul class=\"area_time _c jq_area_time\" data-theater_name=\"台北美麗華大直影城\" data-theater_schedules=\"https://movies.yahoo.com.tw/theater_result.html/id=32\" data-theater_url=\"http://www.miramarcinemas.tw/\" id=\"theater_id_32\">\n",
      "<li class=\"adds\">\n",
      "<a href=\"https://movies.yahoo.com.tw/theater_result.html/id=32\">台北美麗華大直影城</a>\n",
      "<span>02-85022208</span>\n",
      "</li>\n",
      "<li class=\"taps\">\n",
      "<span class=\"tapR\">數位</span> </li>\n",
      "<li class=\"time _c\">\n",
      "<div class=\"input_picker jq_input_picker\">\n",
      "<input class=\"gabtn\" data-cinema=\"40288eb0050f31210ada0f55676b1bbc\" data-date=\"1585324800\" data-ezding=\"ezding\" data-ga=\"['電影頁_時刻表', '電影頁_時刻表_場次', '刺激1995']\" data-movie=\"619aee3f9b974a27b68bb16b2a290b8b\" data-movie_date=\"03.28\" data-movie_time=\"19:50\" data-movie_title=\"刺激1995\" data-movie_type=\"數位\" data-session=\"511ad731cdf34219b3400b21110251fe\" data-time=\"1585396200\" id=\"73396685\" name=\"schedule_list\" type=\"radio\" value=\"2020-03-28 19:50:00\"/>\n",
      "<label class=\"\" for=\"73396685\">19:50</label>\n",
      "</div>\n",
      "</li>\n",
      "</ul>, <ul class=\"area_time _c jq_area_time\" data-theater_name=\"台北信義威秀影城\" data-theater_schedules=\"https://movies.yahoo.com.tw/theater_result.html/id=45\" data-theater_url=\"http://www.vscinemas.com.tw/\" id=\"theater_id_45\">\n",
      "<li class=\"adds\">\n",
      "<a href=\"https://movies.yahoo.com.tw/theater_result.html/id=45\">台北信義威秀影城</a>\n",
      "<span>02-87805566</span>\n",
      "</li>\n",
      "<li class=\"taps\">\n",
      "<span class=\"tapR\">數位</span> </li>\n",
      "<li class=\"time _c\">\n",
      "<div class=\"input_picker jq_input_picker\">\n",
      "<input class=\"gabtn\" data-cinema=\"40288eb0050f542401050f554e7e0674\" data-date=\"1585324800\" data-ezding=\"ezding\" data-ga=\"['電影頁_時刻表', '電影頁_時刻表_場次', '刺激1995']\" data-movie=\"ea1b52a220ff44e5910aa21a20765a93\" data-movie_date=\"03.28\" data-movie_time=\"19:45\" data-movie_title=\"刺激1995\" data-movie_type=\"數位\" data-session=\"a8957e87b6404c5aa41b5055072b7a43\" data-time=\"1585395900\" id=\"73397424\" name=\"schedule_list\" type=\"radio\" value=\"2020-03-28 19:45:00\"/>\n",
      "<label class=\"\" for=\"73397424\">19:45</label>\n",
      "<input class=\"gabtn\" data-cinema=\"40288eb0050f542401050f554e7e0674\" data-date=\"1585324800\" data-ezding=\"ezding\" data-ga=\"['電影頁_時刻表', '電影頁_時刻表_場次', '刺激1995']\" data-movie=\"ea1b52a220ff44e5910aa21a20765a93\" data-movie_date=\"03.28\" data-movie_time=\"22:25\" data-movie_title=\"刺激1995\" data-movie_type=\"數位\" data-session=\"d47309f435b94e3090e245083491f976\" data-time=\"1585405500\" id=\"73397425\" name=\"schedule_list\" type=\"radio\" value=\"2020-03-28 22:25:00\"/>\n",
      "<label class=\"select\" for=\"73397425\">22:25</label>\n",
      "</div>\n",
      "</li>\n",
      "</ul>, <ul class=\"area_time _c jq_area_time\" data-theater_name=\"光點華山電影館\" data-theater_schedules=\"https://movies.yahoo.com.tw/theater_result.html/id=152\" data-theater_url=\"http://www.spot-hs.org.tw/\" id=\"theater_id_152\">\n",
      "<li class=\"adds\">\n",
      "<a href=\"https://movies.yahoo.com.tw/theater_result.html/id=152\">光點華山電影館</a>\n",
      "<span>02-23940622</span>\n",
      "</li>\n",
      "<li class=\"taps\">\n",
      "<span class=\"tapR\">數位</span> </li>\n",
      "<li class=\"time _c\">\n",
      "<div class=\"input_picker jq_input_picker\">\n",
      "<input class=\"gabtn\" data-ga=\"['電影頁_時刻表', '電影頁_時刻表_場次', '刺激1995']\" data-movie_date=\"03.28\" data-movie_time=\"17:00\" data-movie_title=\"刺激1995\" data-movie_type=\"數位\" data-news=\"news\" id=\"73406715\" name=\"schedule_list\" type=\"radio\" value=\"2020-03-28 17:00:00\"/>\n",
      "<label class=\"\" for=\"73406715\">17:00</label>\n",
      "</div>\n",
      "</li>\n",
      "</ul>, <ul class=\"area_time _c jq_area_time\" data-theater_name=\"誠品電影院\" data-theater_schedules=\"https://movies.yahoo.com.tw/theater_result.html/id=168\" data-theater_url=\"https://meet.eslite.com/tw/tc/gallery/201803020001\" id=\"theater_id_168\">\n",
      "<li class=\"adds\">\n",
      "<a href=\"https://movies.yahoo.com.tw/theater_result.html/id=168\">誠品電影院</a>\n",
      "<span>02-66365888</span>\n",
      "</li>\n",
      "<li class=\"taps\">\n",
      "<span class=\"tapR\">數位</span> </li>\n",
      "<li class=\"time _c\">\n",
      "<div class=\"input_picker jq_input_picker\">\n",
      "<input class=\"gabtn\" data-ga=\"['電影頁_時刻表', '電影頁_時刻表_場次', '刺激1995']\" data-movie_date=\"03.28\" data-movie_time=\"16:00\" data-movie_title=\"刺激1995\" data-movie_type=\"數位\" data-news=\"news\" id=\"73406811\" name=\"schedule_list\" type=\"radio\" value=\"2020-03-28 16:00:00\"/>\n",
      "<label class=\"\" for=\"73406811\">16:00</label>\n",
      "<input class=\"gabtn\" data-ga=\"['電影頁_時刻表', '電影頁_時刻表_場次', '刺激1995']\" data-movie_date=\"03.28\" data-movie_time=\"19:30\" data-movie_title=\"刺激1995\" data-movie_type=\"數位\" data-news=\"news\" id=\"73406812\" name=\"schedule_list\" type=\"radio\" value=\"2020-03-28 19:30:00\"/>\n",
      "<label class=\"\" for=\"73406812\">19:30</label>\n",
      "</div>\n",
      "</li>\n",
      "</ul>, <ul class=\"area_time _c jq_area_time\" data-theater_name=\"喜樂時代影城南港店\" data-theater_schedules=\"https://movies.yahoo.com.tw/theater_result.html/id=186\" data-theater_url=\"http://www.centuryasia.com.tw/default.aspx\" id=\"theater_id_186\">\n",
      "<li class=\"adds\">\n",
      "<a href=\"https://movies.yahoo.com.tw/theater_result.html/id=186\">喜樂時代影城南港店</a>\n",
      "<span>02-27888185</span>\n",
      "</li>\n",
      "<li class=\"taps\">\n",
      "<span class=\"tapR\">數位</span> </li>\n",
      "<li class=\"time _c\">\n",
      "<div class=\"input_picker jq_input_picker\">\n",
      "<input class=\"gabtn\" data-cinema=\"40288eb0050f542401050f5681782dc5\" data-date=\"1585324800\" data-ezding=\"ezding\" data-ga=\"['電影頁_時刻表', '電影頁_時刻表_場次', '刺激1995']\" data-movie=\"669c42ca35004b24a0506b628e3ddba8\" data-movie_date=\"03.28\" data-movie_time=\"20:30\" data-movie_title=\"刺激1995\" data-movie_type=\"數位\" data-session=\"4a4e8fe3dad24b1f892b0aa39d926cbe\" data-time=\"1585398600\" id=\"73400698\" name=\"schedule_list\" type=\"radio\" value=\"2020-03-28 20:30:00\"/>\n",
      "<label class=\"\" for=\"73400698\">20:30</label>\n",
      "</div>\n",
      "</li>\n",
      "</ul>, <ul class=\"area_time _c jq_area_time\" data-theater_name=\"MUVIE CINEMAS台北松仁威秀\" data-theater_schedules=\"https://movies.yahoo.com.tw/theater_result.html/id=254\" data-theater_url=\"https://www.vscinemas.com.tw/vsweb/theater/detail2.aspx?id=23\" id=\"theater_id_254\">\n",
      "<li class=\"adds\">\n",
      "<a href=\"https://movies.yahoo.com.tw/theater_result.html/id=254\">MUVIE CINEMAS台北松仁威秀</a>\n",
      "<span>(02)8780-0800</span>\n",
      "</li>\n",
      "<li class=\"taps\">\n",
      "<span class=\"tapR\">TITAN</span> </li>\n",
      "<li class=\"time _c\">\n",
      "<div class=\"input_picker jq_input_picker\">\n",
      "<input class=\"gabtn\" data-cinema=\"470e99e70b5611eaa91e06ba2bcebcfa\" data-date=\"1585324800\" data-ezding=\"ezding\" data-ga=\"['電影頁_時刻表', '電影頁_時刻表_場次', '刺激1995']\" data-movie=\"6e62d9970c7b4eeb8a2ff12c7700350d\" data-movie_date=\"03.28\" data-movie_time=\"21:40\" data-movie_title=\"刺激1995\" data-movie_type=\"TITAN\" data-session=\"4534eaf7bd6b47b2a7ef438af65c8562\" data-time=\"1585402800\" id=\"73396491\" name=\"schedule_list\" type=\"radio\" value=\"2020-03-28 21:40:00\"/>\n",
      "<label class=\"\" for=\"73396491\">21:40</label>\n",
      "</div>\n",
      "</li>\n",
      "</ul>]\n"
     ]
    }
   ],
   "source": [
    "# 向網站發送請求，獲取上映的電影院及時間資訊\n",
    "url = \"https://movies.yahoo.com.tw/ajax/pc/get_schedule_by_movie\"\n",
    "payload = {'movie_id':str(movie_id),\n",
    "           'date':date,\n",
    "           'area_id':str(area_id),\n",
    "           'theater_id':'',\n",
    "           'datetime':'',\n",
    "           'movie_type_id':''}\n",
    "\n",
    "resp = requests.get(url, params=payload)\n",
    "#print(resp.json()['view'])  # 若有需要，列印出json原始碼\n",
    "\n",
    "soup = BeautifulSoup(resp.json()['view'], 'lxml')\n",
    "html = soup.find_all(\"ul\", attrs={'data-theater_name':re.compile(\".*\")})\n",
    "print(html)"
   ]
  },
  {
   "cell_type": "code",
   "execution_count": 9,
   "metadata": {},
   "outputs": [
    {
     "name": "stdout",
     "output_type": "stream",
     "text": [
      "----------------------------------------------------------------------\n",
      "電影院名稱：國賓影城(台北長春廣場)\n",
      "影片放映類型：數位\n",
      "2020-03-28 11:20:00\n",
      "2020-03-28 14:00:00\n",
      "2020-03-28 16:35:00\n",
      "2020-03-28 19:10:00\n",
      "2020-03-28 21:45:00\n",
      "----------------------------------------------------------------------\n",
      "電影院名稱：台北美麗華大直影城\n",
      "影片放映類型：數位\n",
      "2020-03-28 19:50:00\n",
      "----------------------------------------------------------------------\n",
      "電影院名稱：台北信義威秀影城\n",
      "影片放映類型：數位\n",
      "2020-03-28 19:45:00\n",
      "2020-03-28 22:25:00\n",
      "----------------------------------------------------------------------\n",
      "電影院名稱：光點華山電影館\n",
      "影片放映類型：數位\n",
      "2020-03-28 17:00:00\n",
      "----------------------------------------------------------------------\n",
      "電影院名稱：誠品電影院\n",
      "影片放映類型：數位\n",
      "2020-03-28 16:00:00\n",
      "2020-03-28 19:30:00\n",
      "----------------------------------------------------------------------\n",
      "電影院名稱：喜樂時代影城南港店\n",
      "影片放映類型：數位\n",
      "2020-03-28 20:30:00\n",
      "----------------------------------------------------------------------\n",
      "電影院名稱：MUVIE CINEMAS台北松仁威秀\n",
      "影片放映類型：TITAN\n",
      "2020-03-28 21:40:00\n"
     ]
    }
   ],
   "source": [
    "#試著從上一步驟回傳的電影院資料中，擷取電影院名稱、影片放映類型以及時間表\n",
    "\n",
    "for  n in html:\n",
    "    #print (n)\n",
    "    print(\"----------------------------------------------------------------------\")\n",
    "    print( '電影院名稱：' + n['data-theater_name'])\n",
    "    movie_type = n.find('span', attrs = {'class': 'tapR'}) \n",
    "    print('影片放映類型：' + movie_type.text)\n",
    "    movie_time = n.find_all('input', attrs = {'value': re.compile('.*')})\n",
    "    for t in movie_time:\n",
    "        print(t['value'])\n"
   ]
  },
  {
   "cell_type": "code",
   "execution_count": null,
   "metadata": {},
   "outputs": [],
   "source": []
  }
 ],
 "metadata": {
  "kernelspec": {
   "display_name": "Python 3",
   "language": "python",
   "name": "python3"
  },
  "language_info": {
   "codemirror_mode": {
    "name": "ipython",
    "version": 3
   },
   "file_extension": ".py",
   "mimetype": "text/x-python",
   "name": "python",
   "nbconvert_exporter": "python",
   "pygments_lexer": "ipython3",
   "version": "3.6.5"
  }
 },
 "nbformat": 4,
 "nbformat_minor": 2
}
