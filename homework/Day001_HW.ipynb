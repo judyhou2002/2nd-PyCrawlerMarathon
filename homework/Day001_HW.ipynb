{
 "cells": [
  {
   "cell_type": "markdown",
   "metadata": {},
   "source": [
    "# 1.（簡答題）檔案、API、爬蟲三種取得資料方式有什麼不同？"
   ]
  },
  {
   "cell_type": "markdown",
   "metadata": {},
   "source": [
    "檔案：\n",
    "資料存成檔案的方式提供下載，常見的檔案格式例如：CSV, JSON, XML等。\n",
    "\n",
    "API：\n",
    "提供程式化連接的介面，可以選擇資料中要讀取的特定部份，不需要把整批資料事先完整下載。API一般都是直接連結到資料庫，資料庫內儲存即時更新的最新版本資料。\n",
    "\n",
    "爬蟲：\n",
    "資料不是以檔案或是API提供，而是直接出現在網頁上，要用爬蟲程式，將網頁上所需要的資料解析爬取下來。"
   ]
  },
  {
   "cell_type": "markdown",
   "metadata": {},
   "source": [
    "# 2.（實作）完成一個程式，需滿足下列需求：\n",
    "\n",
    "「下載指定檔案到 Data 資料夾，存成檔名 Homework.txt」的檔案網址：https://www.w3.org/TR/PNG/iso_8859-1.txt 或任一個 .txt 的檔案網址\n",
    "\n",
    "檢查 Data 資料夾是否有 Homework.txt 檔名之檔案\n",
    "\n",
    "將「Hello World」字串覆寫到 Homework.txt 檔案\n",
    "\n",
    "檢查 Homework.txt 檔案字數是否符合 Hello World 字數"
   ]
  },
  {
   "cell_type": "code",
   "execution_count": 1,
   "metadata": {},
   "outputs": [],
   "source": [
    "from urllib.request import urlretrieve\n",
    "import os"
   ]
  },
  {
   "cell_type": "code",
   "execution_count": 2,
   "metadata": {
    "scrolled": true
   },
   "outputs": [],
   "source": [
    "# 下載檔案到 Data 資料夾，存成檔名 Homework.txt\n",
    "\n",
    "try:\n",
    "    os.makedirs( './Data', exist_ok=True )\n",
    "    urlretrieve ('https://www.w3.org/TR/PNG/iso_8859-1.txt', './Data/Homework.txt')\n",
    "except:\n",
    "    print('發生錯誤！')"
   ]
  },
  {
   "cell_type": "code",
   "execution_count": 3,
   "metadata": {
    "scrolled": true
   },
   "outputs": [
    {
     "name": "stdout",
     "output_type": "stream",
     "text": [
      "[O] Data 資料夾有 Homework.txt 檔名之檔案\n"
     ]
    }
   ],
   "source": [
    "#檢查 Data 資料夾是否有 Homework.txt 檔名之檔案\n",
    "\n",
    "files = os.listdir('./Data')\n",
    "\n",
    "if 'Homework.txt' in files:\n",
    "    print('[O] Data 資料夾有 Homework.txt 檔名之檔案')\n",
    "else:\n",
    "    print('[X]  Data 資料夾無 Homework.txt 檔名之檔案')"
   ]
  },
  {
   "cell_type": "code",
   "execution_count": 4,
   "metadata": {},
   "outputs": [],
   "source": [
    "#將「Hello World」字串覆寫到 Homework.txt 檔案\n",
    "\n",
    "with open('./Data/Homework.txt', 'w') as fh:\n",
    "    f = fh.write(\"Hello World\") \n",
    "    \n",
    "with open('./Data/Homework.txt', 'r') as fh:\n",
    "    f = fh.read() "
   ]
  },
  {
   "cell_type": "code",
   "execution_count": 5,
   "metadata": {},
   "outputs": [
    {
     "name": "stdout",
     "output_type": "stream",
     "text": [
      "[O] Homework.txt 檔案字數符合 Hello World 字數\n"
     ]
    }
   ],
   "source": [
    "# 檢查 Homework.txt 檔案字數是否符合 Hello World 字數\n",
    "\n",
    "if len('Hello World') == len(f):\n",
    "    print('[O] Homework.txt 檔案字數符合 Hello World 字數')\n",
    "else:\n",
    "    print('[X] Homework.txt 檔案字數不符合 Hello World 字數')"
   ]
  }
 ],
 "metadata": {
  "kernelspec": {
   "display_name": "Python 3",
   "language": "python",
   "name": "python3"
  },
  "language_info": {
   "codemirror_mode": {
    "name": "ipython",
    "version": 3
   },
   "file_extension": ".py",
   "mimetype": "text/x-python",
   "name": "python",
   "nbconvert_exporter": "python",
   "pygments_lexer": "ipython3",
   "version": "3.6.5"
  }
 },
 "nbformat": 4,
 "nbformat_minor": 2
}
